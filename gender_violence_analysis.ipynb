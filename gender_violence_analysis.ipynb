{
 "cells": [
  {
   "cell_type": "code",
   "execution_count": 24,
   "metadata": {},
   "outputs": [],
   "source": [
    "# Data Cleaning of the suvey carried out by Diana de la Vega and Oscar Rodriguez about gender violence.\n",
    "\n",
    "import pandas as pd\n",
    "import matplotlib.pyplot as plt\n",
    "%matplotlib inline\n",
    "pd.set_option(\"display.precision\", 2)"
   ]
  },
  {
   "cell_type": "code",
   "execution_count": 25,
   "metadata": {},
   "outputs": [
    {
     "data": {
      "text/html": [
       "<div>\n",
       "<style scoped>\n",
       "    .dataframe tbody tr th:only-of-type {\n",
       "        vertical-align: middle;\n",
       "    }\n",
       "\n",
       "    .dataframe tbody tr th {\n",
       "        vertical-align: top;\n",
       "    }\n",
       "\n",
       "    .dataframe thead th {\n",
       "        text-align: right;\n",
       "    }\n",
       "</style>\n",
       "<table border=\"1\" class=\"dataframe\">\n",
       "  <thead>\n",
       "    <tr style=\"text-align: right;\">\n",
       "      <th></th>\n",
       "      <th>Date</th>\n",
       "      <th>SEX</th>\n",
       "      <th>AGE</th>\n",
       "      <th>SDW</th>\n",
       "      <th>STATE</th>\n",
       "      <th>UWC</th>\n",
       "      <th>UWL</th>\n",
       "      <th>FOS</th>\n",
       "      <th>WOP</th>\n",
       "      <th>SUP</th>\n",
       "      <th>...</th>\n",
       "      <th>HHM</th>\n",
       "      <th>HMP</th>\n",
       "      <th>SCO</th>\n",
       "      <th>HOM</th>\n",
       "      <th>RWY</th>\n",
       "      <th>AGEP</th>\n",
       "      <th>CP</th>\n",
       "      <th>DA</th>\n",
       "      <th>DSP</th>\n",
       "      <th>M</th>\n",
       "    </tr>\n",
       "  </thead>\n",
       "  <tbody>\n",
       "    <tr>\n",
       "      <th>0</th>\n",
       "      <td>2019/11/22 12:15:50 p.m. GMT-6</td>\n",
       "      <td>Femenino</td>\n",
       "      <td>Entre 18-25</td>\n",
       "      <td>UNIDEG</td>\n",
       "      <td>Guanajuato</td>\n",
       "      <td>Si</td>\n",
       "      <td>Si</td>\n",
       "      <td>Si</td>\n",
       "      <td>Si</td>\n",
       "      <td>Tal vez</td>\n",
       "      <td>...</td>\n",
       "      <td>Si</td>\n",
       "      <td>4.0</td>\n",
       "      <td>Solos</td>\n",
       "      <td>Hombre</td>\n",
       "      <td>Desconocido</td>\n",
       "      <td>19</td>\n",
       "      <td>No</td>\n",
       "      <td>No</td>\n",
       "      <td>No</td>\n",
       "      <td>No se como se hace</td>\n",
       "    </tr>\n",
       "    <tr>\n",
       "      <th>1</th>\n",
       "      <td>2019/11/22 2:48:16 p.m. GMT-6</td>\n",
       "      <td>Femenino</td>\n",
       "      <td>Entre 18-25</td>\n",
       "      <td>UPSRJ</td>\n",
       "      <td>Queretaro</td>\n",
       "      <td>Si</td>\n",
       "      <td>Tal vez</td>\n",
       "      <td>Tal vez</td>\n",
       "      <td>No</td>\n",
       "      <td>No</td>\n",
       "      <td>...</td>\n",
       "      <td>Si</td>\n",
       "      <td>1.0</td>\n",
       "      <td>Solos</td>\n",
       "      <td>Mujer</td>\n",
       "      <td>Un compañero de tu escuela</td>\n",
       "      <td>20</td>\n",
       "      <td>No</td>\n",
       "      <td>No</td>\n",
       "      <td>No</td>\n",
       "      <td>Flojera</td>\n",
       "    </tr>\n",
       "    <tr>\n",
       "      <th>2</th>\n",
       "      <td>2019/11/22 2:49:00 p.m. GMT-6</td>\n",
       "      <td>Femenino</td>\n",
       "      <td>Entre 18-25</td>\n",
       "      <td>Trabajo en un restaurante c:</td>\n",
       "      <td>Queretaro</td>\n",
       "      <td>Si</td>\n",
       "      <td>Si</td>\n",
       "      <td>Tal vez</td>\n",
       "      <td>Tal vez</td>\n",
       "      <td>Tal vez</td>\n",
       "      <td>...</td>\n",
       "      <td>No</td>\n",
       "      <td>0.0</td>\n",
       "      <td>Solos</td>\n",
       "      <td>Hombre</td>\n",
       "      <td>Desconocido</td>\n",
       "      <td>40</td>\n",
       "      <td>No</td>\n",
       "      <td>No</td>\n",
       "      <td>No</td>\n",
       "      <td>Flojera</td>\n",
       "    </tr>\n",
       "    <tr>\n",
       "      <th>3</th>\n",
       "      <td>2019/11/22 3:22:05 p.m. GMT-6</td>\n",
       "      <td>Femenino</td>\n",
       "      <td>Entre 26-35</td>\n",
       "      <td>UPSRJ</td>\n",
       "      <td>Queretaro</td>\n",
       "      <td>No</td>\n",
       "      <td>No</td>\n",
       "      <td>No</td>\n",
       "      <td>No</td>\n",
       "      <td>No</td>\n",
       "      <td>...</td>\n",
       "      <td>No</td>\n",
       "      <td>0.0</td>\n",
       "      <td>Otros</td>\n",
       "      <td>0</td>\n",
       "      <td>Desconocido</td>\n",
       "      <td>0</td>\n",
       "      <td>No</td>\n",
       "      <td>No</td>\n",
       "      <td>No</td>\n",
       "      <td>Flojera</td>\n",
       "    </tr>\n",
       "    <tr>\n",
       "      <th>4</th>\n",
       "      <td>2019/11/22 4:12:52 p.m. GMT-6</td>\n",
       "      <td>Femenino</td>\n",
       "      <td>Entre 18-25</td>\n",
       "      <td>UPSRJ</td>\n",
       "      <td>Queretaro</td>\n",
       "      <td>Si</td>\n",
       "      <td>No</td>\n",
       "      <td>Si</td>\n",
       "      <td>Si</td>\n",
       "      <td>Si</td>\n",
       "      <td>...</td>\n",
       "      <td>No</td>\n",
       "      <td>0.0</td>\n",
       "      <td>Solos</td>\n",
       "      <td>Hombre</td>\n",
       "      <td>Todos los anteriores</td>\n",
       "      <td>20</td>\n",
       "      <td>No</td>\n",
       "      <td>No</td>\n",
       "      <td>No</td>\n",
       "      <td>No se como se hace</td>\n",
       "    </tr>\n",
       "  </tbody>\n",
       "</table>\n",
       "<p>5 rows × 24 columns</p>\n",
       "</div>"
      ],
      "text/plain": [
       "                             Date       SEX           AGE  \\\n",
       "0  2019/11/22 12:15:50 p.m. GMT-6  Femenino  Entre 18-25    \n",
       "1   2019/11/22 2:48:16 p.m. GMT-6  Femenino  Entre 18-25    \n",
       "2   2019/11/22 2:49:00 p.m. GMT-6  Femenino  Entre 18-25    \n",
       "3   2019/11/22 3:22:05 p.m. GMT-6  Femenino  Entre 26-35    \n",
       "4   2019/11/22 4:12:52 p.m. GMT-6  Femenino  Entre 18-25    \n",
       "\n",
       "                            SDW       STATE UWC      UWL      FOS      WOP  \\\n",
       "0                        UNIDEG  Guanajuato  Si       Si       Si       Si   \n",
       "1                         UPSRJ   Queretaro  Si  Tal vez  Tal vez       No   \n",
       "2  Trabajo en un restaurante c:   Queretaro  Si       Si  Tal vez  Tal vez   \n",
       "3                         UPSRJ   Queretaro  No       No       No       No   \n",
       "4                         UPSRJ   Queretaro  Si       No       Si       Si   \n",
       "\n",
       "       SUP  ... HHM  HMP    SCO     HOM                         RWY  AGEP  CP  \\\n",
       "0  Tal vez  ...  Si  4.0  Solos  Hombre                 Desconocido    19  No   \n",
       "1       No  ...  Si  1.0  Solos   Mujer  Un compañero de tu escuela    20  No   \n",
       "2  Tal vez  ...  No  0.0  Solos  Hombre                 Desconocido    40  No   \n",
       "3       No  ...  No  0.0  Otros       0                 Desconocido     0  No   \n",
       "4       Si  ...  No  0.0  Solos  Hombre        Todos los anteriores    20  No   \n",
       "\n",
       "   DA DSP                   M  \n",
       "0  No  No  No se como se hace  \n",
       "1  No  No             Flojera  \n",
       "2  No  No             Flojera  \n",
       "3  No  No             Flojera  \n",
       "4  No  No  No se como se hace  \n",
       "\n",
       "[5 rows x 24 columns]"
      ]
     },
     "execution_count": 25,
     "metadata": {},
     "output_type": "execute_result"
    }
   ],
   "source": [
    "df=pd.read_csv(\"acoso-general.csv\", encoding = \"ISO-8859-1\", engine='python')\n",
    "df.head()"
   ]
  },
  {
   "cell_type": "code",
   "execution_count": 26,
   "metadata": {},
   "outputs": [
    {
     "data": {
      "text/plain": [
       "65"
      ]
     },
     "execution_count": 26,
     "metadata": {},
     "output_type": "execute_result"
    }
   ],
   "source": [
    "#How many women participated in the survey?\n",
    "df[df['SEX']=='Femenino']['SEX'].count()"
   ]
  },
  {
   "cell_type": "code",
   "execution_count": 27,
   "metadata": {},
   "outputs": [
    {
     "data": {
      "text/plain": [
       "35"
      ]
     },
     "execution_count": 27,
     "metadata": {},
     "output_type": "execute_result"
    }
   ],
   "source": [
    "#How many men participated in the survey?\n",
    "df[df['SEX']=='Masculino']['SEX'].count()"
   ]
  },
  {
   "cell_type": "code",
   "execution_count": 28,
   "metadata": {},
   "outputs": [
    {
     "data": {
      "text/plain": [
       "40"
      ]
     },
     "execution_count": 28,
     "metadata": {},
     "output_type": "execute_result"
    }
   ],
   "source": [
    "#How many of them are from UPSRJ?\n",
    "df[df['SDW']=='UPSRJ']['SDW'].count()"
   ]
  },
  {
   "cell_type": "code",
   "execution_count": 29,
   "metadata": {},
   "outputs": [
    {
     "data": {
      "text/plain": [
       "31"
      ]
     },
     "execution_count": 29,
     "metadata": {},
     "output_type": "execute_result"
    }
   ],
   "source": [
    "#How many observations from UPSRJ are also from Women\n",
    "df[(df['SDW']=='UPSRJ') & (df['SEX']=='Femenino')]['SEX'].count()"
   ]
  },
  {
   "cell_type": "code",
   "execution_count": 30,
   "metadata": {},
   "outputs": [
    {
     "data": {
      "text/plain": [
       "76"
      ]
     },
     "execution_count": 30,
     "metadata": {},
     "output_type": "execute_result"
    }
   ],
   "source": [
    "#How many of them are from Queretaro?\n",
    "df[df['STATE']=='Queretaro']['STATE'].count()"
   ]
  },
  {
   "cell_type": "code",
   "execution_count": 33,
   "metadata": {},
   "outputs": [
    {
     "name": "stdout",
     "output_type": "stream",
     "text": [
      "Si           45\n",
      "No           28\n",
      "Tal vez      15\n",
      "No aplica    12\n",
      "Name: UWC, dtype: int64\n",
      "Percentage: 45.0 %\n"
     ]
    }
   ],
   "source": [
    "\n",
    "#How many observations have recieved unwanted letters or emails\n",
    "print(df['UWC'].value_counts())\n",
    "print('Percentage:',(df[df['UWC']=='Si']['SEX'].count()/100)*100,'%')\n"
   ]
  },
  {
   "cell_type": "code",
   "execution_count": 34,
   "metadata": {},
   "outputs": [
    {
     "name": "stdout",
     "output_type": "stream",
     "text": [
      "Men:  10\n",
      "Women:  35\n"
     ]
    }
   ],
   "source": [
    "# How many men and women have recieved unwanted letters or emails\n",
    "print('Men: ',df[(df['UWC']=='Si') & (df['SEX']=='Masculino')]['SEX'].count())\n",
    "print('Women: ',df[(df['UWC']=='Si') & (df['SEX']=='Femenino')]['SEX'].count())"
   ]
  },
  {
   "cell_type": "code",
   "execution_count": 35,
   "metadata": {},
   "outputs": [
    {
     "name": "stdout",
     "output_type": "stream",
     "text": [
      "Men:  5\n",
      "Women:  10\n"
     ]
    }
   ],
   "source": [
    "# How many observations replied 'Maybe'\n",
    "print('Men: ',df[(df['UWC']=='Tal vez') & (df['SEX']=='Masculino')]['SEX'].count())\n",
    "print('Women: ',df[(df['UWC']=='Tal vez') & (df['SEX']=='Femenino')]['SEX'].count())"
   ]
  },
  {
   "cell_type": "code",
   "execution_count": 36,
   "metadata": {},
   "outputs": [
    {
     "name": "stdout",
     "output_type": "stream",
     "text": [
      "Men:  15\n",
      "Women:  13\n"
     ]
    }
   ],
   "source": [
    "# How many observations replied 'No'\n",
    "print('Men: ',df[(df['UWC']=='No') & (df['SEX']=='Masculino')]['SEX'].count())\n",
    "print('Women: ',df[(df['UWC']=='No') & (df['SEX']=='Femenino')]['SEX'].count())"
   ]
  },
  {
   "cell_type": "code",
   "execution_count": 37,
   "metadata": {},
   "outputs": [
    {
     "name": "stdout",
     "output_type": "stream",
     "text": [
      "Men:  7\n",
      "Women:  20\n"
     ]
    }
   ],
   "source": [
    "# Sending unsolicited or unwanted letters, emails or other forms of correspondence?\n",
    "# How many observations replied 'Si'\n",
    "print('Men: ',df[(df['UWL']=='Si') & (df['SEX']=='Masculino')]['SEX'].count())\n",
    "print('Women: ',df[(df['UWL']=='Si') & (df['SEX']=='Femenino')]['SEX'].count())"
   ]
  },
  {
   "cell_type": "code",
   "execution_count": 38,
   "metadata": {},
   "outputs": [
    {
     "name": "stdout",
     "output_type": "stream",
     "text": [
      "Men:  9\n",
      "Women:  22\n"
     ]
    }
   ],
   "source": [
    "#Follow you or spy on you?\n",
    "# How many observations replied 'Si'\n",
    "\n",
    "print('Men: ',df[(df['FOS']=='Si') & (df['SEX']=='Masculino')]['SEX'].count())\n",
    "print('Women: ',df[(df['FOS']=='Si') & (df['SEX']=='Femenino')]['SEX'].count())"
   ]
  },
  {
   "cell_type": "code",
   "execution_count": 39,
   "metadata": {},
   "outputs": [
    {
     "name": "stdout",
     "output_type": "stream",
     "text": [
      "Men:  11\n",
      "Women:  28\n"
     ]
    }
   ],
   "source": [
    "# Waiting outside or inside in places like your home, school, workplace, or recreation?\n",
    "# How many observations replied 'Si'\n",
    "\n",
    "print('Men: ',df[(df['WOP']=='Si') & (df['SEX']=='Masculino')]['SEX'].count())\n",
    "print('Women: ',df[(df['WOP']=='Si') & (df['SEX']=='Femenino')]['SEX'].count())"
   ]
  },
  {
   "cell_type": "code",
   "execution_count": 40,
   "metadata": {},
   "outputs": [
    {
     "name": "stdout",
     "output_type": "stream",
     "text": [
      "Men:  17\n",
      "Women:  22\n"
     ]
    }
   ],
   "source": [
    "#Show up in places where you were even though he or she didn't have to be there?\n",
    "# How many observations replied 'Si'\n",
    "\n",
    "print('Men: ',df[(df['SUP']=='Si') & (df['SEX']=='Masculino')]['SEX'].count())\n",
    "print('Women: ',df[(df['SUP']=='Si') & (df['SEX']=='Femenino')]['SEX'].count())"
   ]
  },
  {
   "cell_type": "code",
   "execution_count": 41,
   "metadata": {},
   "outputs": [
    {
     "name": "stdout",
     "output_type": "stream",
     "text": [
      "Men:  8\n",
      "Women:  17\n"
     ]
    }
   ],
   "source": [
    "#Leaving unwanted objects, gifts or flowers?\n",
    "## How many observations replied 'Si'\n",
    "\n",
    "print('Men: ',df[(df['LUO']=='Si') & (df['SEX']=='Masculino')]['SEX'].count())\n",
    "print('Women: ',df[(df['LUO']=='Si') & (df['SEX']=='Femenino')]['SEX'].count())"
   ]
  },
  {
   "cell_type": "code",
   "execution_count": 42,
   "metadata": {},
   "outputs": [
    {
     "name": "stdout",
     "output_type": "stream",
     "text": [
      "Men:  15\n",
      "Women:  21\n"
     ]
    }
   ],
   "source": [
    "# Publish information or spread rumors about you on the Internet, in a public place, or by word of mouth?\n",
    "## How many observations replied 'Si'\n",
    "\n",
    "print('Men: ',df[(df['PIS']=='Si') & (df['SEX']=='Masculino')]['SEX'].count())\n",
    "print('Women: ',df[(df['PIS']=='Si') & (df['SEX']=='Femenino')]['SEX'].count())"
   ]
  },
  {
   "cell_type": "code",
   "execution_count": 43,
   "metadata": {},
   "outputs": [
    {
     "name": "stdout",
     "output_type": "stream",
     "text": [
      "Men:  15\n",
      "Women:  29\n"
     ]
    }
   ],
   "source": [
    "\n",
    "# How many observations have suffered from any kind of harrassment\n",
    "print('Men: ',df[(df['HAD']=='Si') & (df['SEX']=='Masculino')]['SEX'].count())\n",
    "print('Women: ',df[(df['HAD']=='Si') & (df['SEX']=='Femenino')]['SEX'].count())"
   ]
  },
  {
   "cell_type": "code",
   "execution_count": 44,
   "metadata": {},
   "outputs": [
    {
     "data": {
      "text/plain": [
       "Diferentes di­as    74\n",
       "No aplica           16\n",
       "Mismo dia           10\n",
       "Name: CHB, dtype: int64"
      ]
     },
     "execution_count": 44,
     "metadata": {},
     "output_type": "execute_result"
    }
   ],
   "source": [
    "# most of the harrassments have occured over many days\n",
    "df['CHB'].value_counts()"
   ]
  },
  {
   "cell_type": "code",
   "execution_count": 45,
   "metadata": {},
   "outputs": [
    {
     "name": "stdout",
     "output_type": "stream",
     "text": [
      "Men:  18\n",
      "Women:  42\n"
     ]
    },
    {
     "data": {
      "text/plain": [
       "Si           60\n",
       "No           37\n",
       "No aplica     3\n",
       "Name: HHM, dtype: int64"
      ]
     },
     "execution_count": 45,
     "metadata": {},
     "output_type": "execute_result"
    }
   ],
   "source": [
    "# Have any of these things happened to you in the last 12 months, that is, from 2018 to 2019? \n",
    "print('Men: ',df[(df['HHM']=='Si') & (df['SEX']=='Masculino')]['SEX'].count())\n",
    "print('Women: ',df[(df['HHM']=='Si') & (df['SEX']=='Femenino')]['SEX'].count())\n",
    "df['HHM'].value_counts()"
   ]
  },
  {
   "cell_type": "code",
   "execution_count": 46,
   "metadata": {},
   "outputs": [
    {
     "name": "stdout",
     "output_type": "stream",
     "text": [
      "Maximum number of abusers to one person 15.0\n",
      "Mean abusers per person 2.6804123711340204\n"
     ]
    }
   ],
   "source": [
    "#How many different people have done any of these things to you in the last 12 months?\n",
    "print('Maximum number of abusers to one person',df['HMP'].max())\n",
    "print('Mean abusers per person',df['HMP'].mean())"
   ]
  },
  {
   "cell_type": "code",
   "execution_count": 47,
   "metadata": {},
   "outputs": [
    {
     "data": {
      "text/plain": [
       "Solos        78\n",
       "Otros        16\n",
       "No aplica     6\n",
       "Name: SCO, dtype: int64"
      ]
     },
     "execution_count": 47,
     "metadata": {},
     "output_type": "execute_result"
    }
   ],
   "source": [
    "# Did these people act alone or with others?\n",
    "df['SCO'].value_counts()"
   ]
  },
  {
   "cell_type": "code",
   "execution_count": 48,
   "metadata": {},
   "outputs": [
    {
     "data": {
      "text/plain": [
       "Hombre               62\n",
       "Mujer                30\n",
       "Hombres y Mujeres     3\n",
       "No aplica             1\n",
       "I                     1\n",
       "0                     1\n",
       "Ambos xD              1\n",
       "Ninguna               1\n",
       "Name: HOM, dtype: int64"
      ]
     },
     "execution_count": 48,
     "metadata": {},
     "output_type": "execute_result"
    }
   ],
   "source": [
    "# The abuses have been perpetrated by...\n",
    "df['HOM'].value_counts()"
   ]
  },
  {
   "cell_type": "code",
   "execution_count": 49,
   "metadata": {},
   "outputs": [
    {
     "data": {
      "text/plain": [
       "Desconocido                   49\n",
       "Amigo(a)                      14\n",
       "No aplica                     12\n",
       "Todos los anteriores          11\n",
       "Un compañero de tu escuela    10\n",
       "Familiar                       3\n",
       "Personal de la escuela         1\n",
       "Name: RWY, dtype: int64"
      ]
     },
     "execution_count": 49,
     "metadata": {},
     "output_type": "execute_result"
    }
   ],
   "source": [
    "# Relationship whit the perpetrator of the abuse\n",
    "df['RWY'].value_counts()"
   ]
  },
  {
   "cell_type": "code",
   "execution_count": 50,
   "metadata": {},
   "outputs": [
    {
     "data": {
      "text/plain": [
       "20    13\n",
       "40    12\n",
       "25    12\n",
       "35    11\n",
       "30     9\n",
       "26     6\n",
       "21     6\n",
       "0      6\n",
       "24     5\n",
       "28     3\n",
       "31     2\n",
       "23     2\n",
       "22     2\n",
       "45     2\n",
       "46     2\n",
       "16     2\n",
       "60     2\n",
       "50     1\n",
       "33     1\n",
       "19     1\n",
       "Name: AGEP, dtype: int64"
      ]
     },
     "execution_count": 50,
     "metadata": {},
     "output_type": "execute_result"
    }
   ],
   "source": [
    "# Age of the abusers\n",
    "df['AGEP'].value_counts()"
   ]
  },
  {
   "cell_type": "code",
   "execution_count": 51,
   "metadata": {},
   "outputs": [
    {
     "data": {
      "text/plain": [
       "No           94\n",
       "Si            3\n",
       "No aplica     3\n",
       "Name: CP, dtype: int64"
      ]
     },
     "execution_count": 51,
     "metadata": {},
     "output_type": "execute_result"
    }
   ],
   "source": [
    "# Has this person ever lived with the victim\n",
    "df['CP'].value_counts()"
   ]
  },
  {
   "cell_type": "code",
   "execution_count": 52,
   "metadata": {},
   "outputs": [
    {
     "data": {
      "text/plain": [
       "No           79\n",
       "Si           14\n",
       "No aplica     7\n",
       "Name: DA, dtype: int64"
      ]
     },
     "execution_count": 52,
     "metadata": {},
     "output_type": "execute_result"
    }
   ],
   "source": [
    "# Have the assaults been reported\n",
    "df['DA'].value_counts()"
   ]
  },
  {
   "cell_type": "code",
   "execution_count": 53,
   "metadata": {},
   "outputs": [
    {
     "data": {
      "text/plain": [
       "No           91\n",
       "No aplica     7\n",
       "Si            2\n",
       "Name: DSP, dtype: int64"
      ]
     },
     "execution_count": 53,
     "metadata": {},
     "output_type": "execute_result"
    }
   ],
   "source": [
    "# Did the report solve the problem\n",
    "df['DSP'].value_counts()"
   ]
  },
  {
   "cell_type": "code",
   "execution_count": 54,
   "metadata": {},
   "outputs": [
    {
     "data": {
      "text/plain": [
       "No se como se hace    31\n",
       "No aplica             20\n",
       "Miedo                 20\n",
       "Flojera               19\n",
       "Name: M, dtype: int64"
      ]
     },
     "execution_count": 54,
     "metadata": {},
     "output_type": "execute_result"
    }
   ],
   "source": [
    "# If you did not reported the harrasment, what was the reason?\n",
    "# I do not knok how to\n",
    "# Fear\n",
    "# Lazyness\n",
    "df['M'].value_counts()\n"
   ]
  },
  {
   "cell_type": "code",
   "execution_count": 55,
   "metadata": {},
   "outputs": [],
   "source": [
    "#graph where it show the number of abusers and the age of them"
   ]
  },
  {
   "cell_type": "code",
   "execution_count": 56,
   "metadata": {},
   "outputs": [
    {
     "data": {
      "text/plain": [
       "<matplotlib.collections.PathCollection at 0x7fce74fa9668>"
      ]
     },
     "execution_count": 56,
     "metadata": {},
     "output_type": "execute_result"
    },
    {
     "data": {
      "image/png": "[encoded data removed]",
      "text/plain": [
       "<Figure size 432x288 with 1 Axes>"
      ]
     },
     "metadata": {
      "needs_background": "light"
     },
     "output_type": "display_data"
    }
   ],
   "source": [
    "plt.scatter(df['HMP'],df['AGEP'])"
   ]
  },
  {
   "cell_type": "code",
   "execution_count": 57,
   "metadata": {
    "scrolled": true
   },
   "outputs": [
    {
     "data": {
      "text/plain": [
       "<matplotlib.axes._subplots.AxesSubplot at 0x7fce74f2ad68>"
      ]
     },
     "execution_count": 57,
     "metadata": {},
     "output_type": "execute_result"
    },
    {
     "data": {
      "image/png": "[encoded data removed]",
      "text/plain": [
       "<Figure size 432x288 with 1 Axes>"
      ]
     },
     "metadata": {
      "needs_background": "light"
     },
     "output_type": "display_data"
    }
   ],
   "source": [
    "df['AGEP'].hist()"
   ]
  },
  {
   "cell_type": "code",
   "execution_count": 85,
   "metadata": {
    "scrolled": true
   },
   "outputs": [
    {
     "data": {
      "text/html": [
       "<div>\n",
       "<style scoped>\n",
       "    .dataframe tbody tr th:only-of-type {\n",
       "        vertical-align: middle;\n",
       "    }\n",
       "\n",
       "    .dataframe tbody tr th {\n",
       "        vertical-align: top;\n",
       "    }\n",
       "\n",
       "    .dataframe thead th {\n",
       "        text-align: right;\n",
       "    }\n",
       "</style>\n",
       "<table border=\"1\" class=\"dataframe\">\n",
       "  <thead>\n",
       "    <tr style=\"text-align: right;\">\n",
       "      <th></th>\n",
       "      <th>Date</th>\n",
       "      <th>SEX</th>\n",
       "      <th>AGE</th>\n",
       "      <th>SDW</th>\n",
       "      <th>STATE</th>\n",
       "      <th>UWC</th>\n",
       "      <th>UWL</th>\n",
       "      <th>FOS</th>\n",
       "      <th>WOP</th>\n",
       "      <th>SUP</th>\n",
       "      <th>...</th>\n",
       "      <th>HHM</th>\n",
       "      <th>HMP</th>\n",
       "      <th>SCO</th>\n",
       "      <th>HOM</th>\n",
       "      <th>RWY</th>\n",
       "      <th>AGEP</th>\n",
       "      <th>CP</th>\n",
       "      <th>DA</th>\n",
       "      <th>DSP</th>\n",
       "      <th>M</th>\n",
       "    </tr>\n",
       "  </thead>\n",
       "  <tbody>\n",
       "    <tr>\n",
       "      <th>7</th>\n",
       "      <td>2019/11/22 8:44:04 p.m. GMT-6</td>\n",
       "      <td>Femenino</td>\n",
       "      <td>Entre 26-35</td>\n",
       "      <td>John F Kennedy American School</td>\n",
       "      <td>Queretaro</td>\n",
       "      <td>Si</td>\n",
       "      <td>Si</td>\n",
       "      <td>Si</td>\n",
       "      <td>Si</td>\n",
       "      <td>Si</td>\n",
       "      <td>...</td>\n",
       "      <td>Si</td>\n",
       "      <td>10.0</td>\n",
       "      <td>Solos</td>\n",
       "      <td>Hombre</td>\n",
       "      <td>Todos los anteriores</td>\n",
       "      <td>40</td>\n",
       "      <td>No</td>\n",
       "      <td>Si</td>\n",
       "      <td>Si</td>\n",
       "      <td>NaN</td>\n",
       "    </tr>\n",
       "    <tr>\n",
       "      <th>19</th>\n",
       "      <td>2019/11/26 12:25:31 a.m. GMT-6</td>\n",
       "      <td>Femenino</td>\n",
       "      <td>Entre 18-25</td>\n",
       "      <td>UPSRJ</td>\n",
       "      <td>Queretaro</td>\n",
       "      <td>Si</td>\n",
       "      <td>Si</td>\n",
       "      <td>Tal vez</td>\n",
       "      <td>No</td>\n",
       "      <td>No</td>\n",
       "      <td>...</td>\n",
       "      <td>Si</td>\n",
       "      <td>15.0</td>\n",
       "      <td>Solos</td>\n",
       "      <td>Hombre</td>\n",
       "      <td>Familiar</td>\n",
       "      <td>35</td>\n",
       "      <td>No</td>\n",
       "      <td>Si</td>\n",
       "      <td>No</td>\n",
       "      <td>Miedo</td>\n",
       "    </tr>\n",
       "    <tr>\n",
       "      <th>40</th>\n",
       "      <td>2019/11/26 2:03:38 p.m. GMT-6</td>\n",
       "      <td>Femenino</td>\n",
       "      <td>Entre 18-25</td>\n",
       "      <td>Trabajo</td>\n",
       "      <td>Queretaro</td>\n",
       "      <td>Si</td>\n",
       "      <td>No</td>\n",
       "      <td>Tal vez</td>\n",
       "      <td>No</td>\n",
       "      <td>No</td>\n",
       "      <td>...</td>\n",
       "      <td>Si</td>\n",
       "      <td>10.0</td>\n",
       "      <td>Solos</td>\n",
       "      <td>Hombre</td>\n",
       "      <td>Desconocido</td>\n",
       "      <td>25</td>\n",
       "      <td>No</td>\n",
       "      <td>No</td>\n",
       "      <td>No</td>\n",
       "      <td>No se como se hace</td>\n",
       "    </tr>\n",
       "    <tr>\n",
       "      <th>48</th>\n",
       "      <td>2019/11/26 4:00:33 p.m. GMT-6</td>\n",
       "      <td>Femenino</td>\n",
       "      <td>Entre 18-25</td>\n",
       "      <td>UNICEQ</td>\n",
       "      <td>Queretaro</td>\n",
       "      <td>Si</td>\n",
       "      <td>Si</td>\n",
       "      <td>Si</td>\n",
       "      <td>Si</td>\n",
       "      <td>Si</td>\n",
       "      <td>...</td>\n",
       "      <td>Si</td>\n",
       "      <td>10.0</td>\n",
       "      <td>Solos</td>\n",
       "      <td>Hombre</td>\n",
       "      <td>Desconocido</td>\n",
       "      <td>28</td>\n",
       "      <td>No</td>\n",
       "      <td>No</td>\n",
       "      <td>No</td>\n",
       "      <td>Miedo</td>\n",
       "    </tr>\n",
       "    <tr>\n",
       "      <th>61</th>\n",
       "      <td>2019/11/27 2:49:33 p.m. GMT-6</td>\n",
       "      <td>Femenino</td>\n",
       "      <td>Entre 18-25</td>\n",
       "      <td>UAQ</td>\n",
       "      <td>Queretaro</td>\n",
       "      <td>No</td>\n",
       "      <td>Si</td>\n",
       "      <td>Si</td>\n",
       "      <td>No</td>\n",
       "      <td>Si</td>\n",
       "      <td>...</td>\n",
       "      <td>No</td>\n",
       "      <td>10.0</td>\n",
       "      <td>Solos</td>\n",
       "      <td>Mujer</td>\n",
       "      <td>Un compañero de tu escuela</td>\n",
       "      <td>23</td>\n",
       "      <td>No</td>\n",
       "      <td>Si</td>\n",
       "      <td>No</td>\n",
       "      <td>Miedo</td>\n",
       "    </tr>\n",
       "    <tr>\n",
       "      <th>82</th>\n",
       "      <td>2019/11/28 10:35:30 a.m. GMT-6</td>\n",
       "      <td>Femenino</td>\n",
       "      <td>Entre 18-29</td>\n",
       "      <td>UPSRJ</td>\n",
       "      <td>Queretaro</td>\n",
       "      <td>No aplica</td>\n",
       "      <td>Si</td>\n",
       "      <td>Si</td>\n",
       "      <td>No</td>\n",
       "      <td>Si</td>\n",
       "      <td>...</td>\n",
       "      <td>Si</td>\n",
       "      <td>10.0</td>\n",
       "      <td>Solos</td>\n",
       "      <td>Mujer</td>\n",
       "      <td>Amigo(a)</td>\n",
       "      <td>20</td>\n",
       "      <td>No</td>\n",
       "      <td>No</td>\n",
       "      <td>No</td>\n",
       "      <td>No se como se hace</td>\n",
       "    </tr>\n",
       "    <tr>\n",
       "      <th>90</th>\n",
       "      <td>2019/11/28 9:55:14 p.m. GMT-6</td>\n",
       "      <td>Femenino</td>\n",
       "      <td>Entre 36-45</td>\n",
       "      <td>UVEG</td>\n",
       "      <td>Queretaro</td>\n",
       "      <td>Si</td>\n",
       "      <td>No</td>\n",
       "      <td>No</td>\n",
       "      <td>Si</td>\n",
       "      <td>Si</td>\n",
       "      <td>...</td>\n",
       "      <td>No</td>\n",
       "      <td>10.0</td>\n",
       "      <td>No aplica</td>\n",
       "      <td>Hombre</td>\n",
       "      <td>Amigo(a)</td>\n",
       "      <td>20</td>\n",
       "      <td>No</td>\n",
       "      <td>No</td>\n",
       "      <td>No</td>\n",
       "      <td>No aplica</td>\n",
       "    </tr>\n",
       "  </tbody>\n",
       "</table>\n",
       "<p>7 rows × 24 columns</p>\n",
       "</div>"
      ],
      "text/plain": [
       "                              Date       SEX           AGE  \\\n",
       "7    2019/11/22 8:44:04 p.m. GMT-6  Femenino  Entre 26-35    \n",
       "19  2019/11/26 12:25:31 a.m. GMT-6  Femenino  Entre 18-25    \n",
       "40   2019/11/26 2:03:38 p.m. GMT-6  Femenino   Entre 18-25   \n",
       "48   2019/11/26 4:00:33 p.m. GMT-6  Femenino   Entre 18-25   \n",
       "61   2019/11/27 2:49:33 p.m. GMT-6  Femenino   Entre 18-25   \n",
       "82  2019/11/28 10:35:30 a.m. GMT-6  Femenino   Entre 18-29   \n",
       "90   2019/11/28 9:55:14 p.m. GMT-6  Femenino  Entre 36-45    \n",
       "\n",
       "                                SDW      STATE        UWC UWL      FOS WOP  \\\n",
       "7   John F Kennedy American School   Queretaro         Si  Si       Si  Si   \n",
       "19                            UPSRJ  Queretaro         Si  Si  Tal vez  No   \n",
       "40                         Trabajo   Queretaro         Si  No  Tal vez  No   \n",
       "48                           UNICEQ  Queretaro         Si  Si       Si  Si   \n",
       "61                              UAQ  Queretaro         No  Si       Si  No   \n",
       "82                            UPSRJ  Queretaro  No aplica  Si       Si  No   \n",
       "90                             UVEG  Queretaro         Si  No       No  Si   \n",
       "\n",
       "   SUP  ... HHM   HMP        SCO     HOM                         RWY  AGEP  \\\n",
       "7   Si  ...  Si  10.0      Solos  Hombre        Todos los anteriores    40   \n",
       "19  No  ...  Si  15.0      Solos  Hombre                    Familiar    35   \n",
       "40  No  ...  Si  10.0      Solos  Hombre                 Desconocido    25   \n",
       "48  Si  ...  Si  10.0      Solos  Hombre                 Desconocido    28   \n",
       "61  Si  ...  No  10.0      Solos   Mujer  Un compañero de tu escuela    23   \n",
       "82  Si  ...  Si  10.0      Solos   Mujer                    Amigo(a)    20   \n",
       "90  Si  ...  No  10.0  No aplica  Hombre                    Amigo(a)    20   \n",
       "\n",
       "    CP  DA DSP                   M  \n",
       "7   No  Si  Si                 NaN  \n",
       "19  No  Si  No               Miedo  \n",
       "40  No  No  No  No se como se hace  \n",
       "48  No  No  No               Miedo  \n",
       "61  No  Si  No               Miedo  \n",
       "82  No  No  No  No se como se hace  \n",
       "90  No  No  No           No aplica  \n",
       "\n",
       "[7 rows x 24 columns]"
      ]
     },
     "execution_count": 85,
     "metadata": {},
     "output_type": "execute_result"
    }
   ],
   "source": [
    "df[(df['HMP']>=10) & (df['SEX']=='Femenino')]"
   ]
  },
  {
   "cell_type": "code",
   "execution_count": null,
   "metadata": {},
   "outputs": [],
   "source": [
    "# It can be concluded that almost half of the observatioins have been harrassed in some way.\n",
    "# Women are twice as likely to suffer from harrassment thatn men.\n",
    "# The mean age of the abusers is around 30 years old being unknown people followed by 'Friends' or close persons how commit the abuse.\n",
    "# Recieving unwanted contact or getting stalked fisicaly or digitaly are the most common way of harrassment.\n",
    "# Almost a third of the women who have been harrassed have also being harrassed for more than 10 different \n",
    "# people only in this year.\n",
    "# 90% of the people that has been harrassed did not reported the abuse mostly due to not knowing how to do so.\n"
   ]
  },
  {
   "cell_type": "code",
   "execution_count": null,
   "metadata": {},
   "outputs": [],
   "source": []
  }
 ],
 "metadata": {
  "kernelspec": {
   "display_name": "Python 3",
   "language": "python",
   "name": "python3"
  },
  "language_info": {
   "codemirror_mode": {
    "name": "ipython",
    "version": 3
   },
   "file_extension": ".py",
   "mimetype": "text/x-python",
   "name": "python",
   "nbconvert_exporter": "python",
   "pygments_lexer": "ipython3",
   "version": "3.7.3"
  }
 },
 "nbformat": 4,
 "nbformat_minor": 2
}
